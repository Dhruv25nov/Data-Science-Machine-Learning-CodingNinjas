{
 "cells": [
  {
   "cell_type": "markdown",
   "metadata": {},
   "source": [
    "# Calculator"
   ]
  },
  {
   "cell_type": "code",
   "execution_count": null,
   "metadata": {
    "scrolled": true
   },
   "outputs": [],
   "source": [
    "n= int(input())\n",
    "while n != 6:\n",
    "    if n <= 5 and n >= 1:\n",
    "        a = int(input())\n",
    "        b = int(input())\n",
    "    if n==1:\n",
    "        print(a + b)\n",
    "    if n==2:\n",
    "        print(a - b)\n",
    "    if n==3:\n",
    "        print(a * b)\n",
    "    if n==4:\n",
    "        print(a // b)\n",
    "    if n==5:\n",
    "        print(a % b)\n",
    "    elif n < 1 or n > 6:\n",
    "        print(\"Invalid Operation\")\n",
    "    n=int(input())"
   ]
  },
  {
   "cell_type": "markdown",
   "metadata": {},
   "source": [
    "# Reverse of a number\n"
   ]
  },
  {
   "cell_type": "code",
   "execution_count": null,
   "metadata": {
    "scrolled": true
   },
   "outputs": [],
   "source": [
    "n = int(input())\n",
    "if n >=7:    \n",
    "    print(\"Invalid Operation\")\n",
    "elif n<6:\n",
    "    a = int(input())\n",
    "    b = int(input())\n",
    "    sum=a+b\n",
    "    print(sum)\n",
    "\n",
    "    difference = a-b\n",
    "    print(difference)\n",
    "\n",
    "    product = a*b\n",
    "    print(product)\n",
    "\n",
    "    quotient= a/b\n",
    "    print(quotient)\n",
    "\n",
    "    remainder= a%b\n",
    "    print(remainder)\n",
    "\n",
    "elif n == 6:\n",
    "    print(exit)"
   ]
  },
  {
   "cell_type": "markdown",
   "metadata": {},
   "source": [
    "# Palindrome number"
   ]
  },
  {
   "cell_type": "code",
   "execution_count": null,
   "metadata": {
    "scrolled": true
   },
   "outputs": [],
   "source": [
    "N = int(input())\n",
    "i = N\n",
    "R = 0\n",
    "while N>0:\n",
    "    R =R*10+ N%10\n",
    "    N =N//10\n",
    "if R ==i:\n",
    "    print(\"true\")\n",
    "else:\n",
    "    print(\"false\")"
   ]
  },
  {
   "cell_type": "markdown",
   "metadata": {},
   "source": [
    "# Sum of even & odd"
   ]
  },
  {
   "cell_type": "code",
   "execution_count": null,
   "metadata": {
    "scrolled": true
   },
   "outputs": [],
   "source": [
    "N = int(input())\n",
    "R = 0\n",
    "evenSum = 0\n",
    "oddSum = 0\n",
    "\n",
    "while N>0:\n",
    "    R =N%10\n",
    "    N =N//10\n",
    "    if R%2==0:\n",
    "        evenSum = evenSum + R\n",
    "        # print(evenSum)\n",
    "    else:\n",
    "        oddSum = oddSum +R\n",
    "print(evenSum,oddSum)"
   ]
  },
  {
   "cell_type": "markdown",
   "metadata": {},
   "source": [
    "# Nth Fibonacci Number"
   ]
  },
  {
   "cell_type": "code",
   "execution_count": null,
   "metadata": {},
   "outputs": [],
   "source": [
    "a=int(input())\n",
    "f=1                                         \n",
    "s=1                                         \n",
    "if a<=0:\n",
    "    print(f)\n",
    "else:\n",
    "    for x in range(2,a):\n",
    "        next=f+s                           \n",
    "        f=s\n",
    "        s=next\n",
    "    print(next)"
   ]
  }
 ],
 "metadata": {
  "kernelspec": {
   "display_name": "Python 3 (ipykernel)",
   "language": "python",
   "name": "python3"
  },
  "language_info": {
   "codemirror_mode": {
    "name": "ipython",
    "version": 3
   },
   "file_extension": ".py",
   "mimetype": "text/x-python",
   "name": "python",
   "nbconvert_exporter": "python",
   "pygments_lexer": "ipython3",
   "version": "3.10.6"
  }
 },
 "nbformat": 4,
 "nbformat_minor": 4
}
